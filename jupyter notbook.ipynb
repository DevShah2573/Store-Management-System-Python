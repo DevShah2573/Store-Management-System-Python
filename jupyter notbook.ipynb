{
 "cells": [
  {
   "cell_type": "code",
   "execution_count": null,
   "metadata": {},
   "outputs": [],
   "source": [
    "import numpy as np\n",
    "import matplotlib.pyplot as plt\n",
    "import datetime as dt\n",
    "print(dt.datetime.now())"
   ]
  },
  {
   "cell_type": "code",
   "execution_count": null,
   "metadata": {},
   "outputs": [],
   "source": []
  },
  {
   "cell_type": "code",
   "execution_count": null,
   "metadata": {},
   "outputs": [],
   "source": [
    "def main_interface():\n",
    "    print(\"Enter as Shop_manager or Customer?\")\n",
    "    print(\"Select Option:\\n 1 => Shop_manager\\n 2 => Customer\")\n",
    "    type_of_user = int(input(\"Enter (1 / 2) : \"))\n",
    "    if(type_of_user == 1):\n",
    "        print(\"Hi Shop manager !!!!!!!!\")\n",
    "    elif(type_of_user == 2):\n",
    "        print(\"Hi, Customer !!!!!\")\n",
    "    else:\n",
    "        print(\"Sorry, Please Select valid option 1 or 2. (Invalid Option!)\")\n",
    "        print(\"------------------------------------------------------------------\\n\")\n",
    "        main_interface()\n",
    "main_interface()"
   ]
  },
  {
   "cell_type": "code",
   "execution_count": 2,
   "metadata": {},
   "outputs": [
    {
     "name": "stdout",
     "output_type": "stream",
     "text": [
      "\n",
      "Select the Operation:\n",
      "1. Add Customer               6. Add new product            11.Exit\n",
      "2. All Customers Details      7. Add Product stock\n",
      "3. Check Customers Details    8. Product sell\n",
      "4. All Product Details        9. Product selling chart\n",
      "5. Check Product Details      10. Generate bill\n",
      "\n",
      "3\n",
      "\n",
      "Select the Operation:\n",
      "1. Add Customer               6. Add new product            11.Exit\n",
      "2. All Customers Details      7. Add Product stock\n",
      "3. Check Customers Details    8. Product sell\n",
      "4. All Product Details        9. Product selling chart\n",
      "5. Check Product Details      10. Generate bill\n",
      "\n",
      "2\n",
      "\n",
      "Select the Operation:\n",
      "1. Add Customer               6. Add new product            11.Exit\n",
      "2. All Customers Details      7. Add Product stock\n",
      "3. Check Customers Details    8. Product sell\n",
      "4. All Product Details        9. Product selling chart\n",
      "5. Check Product Details      10. Generate bill\n",
      "\n",
      "5\n",
      "\n",
      "Select the Operation:\n",
      "1. Add Customer               6. Add new product            11.Exit\n",
      "2. All Customers Details      7. Add Product stock\n",
      "3. Check Customers Details    8. Product sell\n",
      "4. All Product Details        9. Product selling chart\n",
      "5. Check Product Details      10. Generate bill\n",
      "\n"
     ]
    }
   ],
   "source": [
    "def main_interface():\n",
    "    while(True):\n",
    "        print()\n",
    "        print(\"Select the Operation:\")\n",
    "        print(\"1. Add Customer               6. Add new product            11.Exit\")\n",
    "        print(\"2. All Customers Details      7. Add Product stock\")\n",
    "        print(\"3. Check Customers Details    8. Product sell\")  \n",
    "        print(\"4. All Product Details        9. Product selling chart\")\n",
    "        print(\"5. Check Product Details      10. Generate bill\")\n",
    "        print()\n",
    "        select = input(\"Select :\")\n",
    "        if select == \"1\":\n",
    "            print(1)\n",
    "        elif select == \"2\":\n",
    "            print(2)\n",
    "        elif select == \"3\":\n",
    "            print(3)\n",
    "        elif select == \"4\":\n",
    "            print(4)\n",
    "        elif select == \"5\":\n",
    "            print(5)\n",
    "        elif select == \"6\":\n",
    "            print(6)\n",
    "        elif select == \"7\":\n",
    "            print(7)\n",
    "        elif select == \"8\":\n",
    "            print(8)\n",
    "        elif select == \"9\":\n",
    "            print(9)\n",
    "        elif select == \"10\":\n",
    "            print(10)\n",
    "        elif select == \"11\":\n",
    "            break\n",
    "        else:\n",
    "            print(\"Please, Select Valid Option.\")\n",
    "\n",
    "main_interface()"
   ]
  },
  {
   "attachments": {},
   "cell_type": "markdown",
   "metadata": {},
   "source": [
    "# Some Important Functions"
   ]
  },
  {
   "cell_type": "code",
   "execution_count": 3,
   "metadata": {},
   "outputs": [],
   "source": [
    "# This function, converts the multiline text file in to 2D list\n",
    "def textdata_to_list2d(filename,stripstring=\"|\"):\n",
    "    f = open(filename,'r')\n",
    "    f.seek(0)\n",
    "    lst = f.read().split(\"\\n\")\n",
    "    # print(lst)\n",
    "    for i in range(len(lst)):\n",
    "        lst[i] = lst[i].split(stripstring)\n",
    "    # print(lst)\n",
    "    f.close()\n",
    "    return lst # now file is converted into the 2D List\n",
    "\n",
    "# This function, converts the 2D list in to multiline text file\n",
    "def list2d_to_textdata(lst,stripstring=\"|\"):\n",
    "    l1 = len(lst)\n",
    "    for i in range(l1):\n",
    "        l2 = len(lst[i])\n",
    "        data=\"\"\n",
    "        for j in range(l2):\n",
    "            data = data + stripstring +lst[i][j]\n",
    "            data = data.strip(stripstring)\n",
    "        lst[i] = data+\"\\n\"\n",
    "    text_data = \"\".join(lst)\n",
    "    return text_data # now 2D list is converted into file\n",
    "\n",
    "# mylst = textdata_to_list2d(\"products.txt\")\n",
    "# print(list2d_to_textdata(mylst))\n",
    "# f = open('products.txt','w')\n",
    "# f.close()\n",
    "\n",
    "\n",
    "def add_stock(lst,pid,quntity):\n",
    "    for i in range(len(lst)):\n",
    "        if(pid == lst[i][0]):\n",
    "            lst[i][-1] = str(int(lst[i][-1]) + quntity)\n",
    "            lst[i][-2] = str(int(lst[i][-2]) + quntity)\n",
    "            break\n",
    "        else:\n",
    "            print(\"Sorry, Product ID NOT found !!\")\n",
    "\n",
    "def product_sold(lst,pid,quntity):\n",
    "    for i in range(len(lst)):\n",
    "        if(pid == lst[i][0]):\n",
    "            lst[i][-3] = str(int(lst[i][-3]) + quntity)\n",
    "            lst[i][-2] = str(int(lst[i][-2]) - quntity)\n",
    "            break\n",
    "        else:\n",
    "            print(\"Sorry, Product ID NOT found !!\")\n"
   ]
  },
  {
   "attachments": {},
   "cell_type": "markdown",
   "metadata": {},
   "source": [
    "# 1. All Product Details"
   ]
  },
  {
   "cell_type": "code",
   "execution_count": 13,
   "metadata": {},
   "outputs": [
    {
     "name": "stdout",
     "output_type": "stream",
     "text": [
      "P101|Pname101|80|productDetails of P101|40|60|100\n",
      "P102|Pname102|80|productDetails of P102|40|60|100\n",
      "P103|Pname103|80|productDetails of P103|40|60|100\n",
      "P104|Pname104|80|productDetails of P104|40|60|100\n",
      "P105|Pname105|80|productDetails of P105|40|60|100\n",
      "P106|Pname106|80|productDetails of P106|40|60|100\n",
      "P107|Pname107|80|productDetails of P107|40|60|100\n",
      "P108|Pname108|80|productDetails of P108|40|60|100\n",
      "P109|Pname109|80|productDetails of P109|40|60|100\n",
      "P110|Pname110|80|productDetails of P110|40|60|100\n"
     ]
    }
   ],
   "source": [
    "def All_product_details():\n",
    "    f = open(\"products.txt\",\"r\")\n",
    "    print(f.read())\n",
    "    f.close()\n",
    "\n",
    "All_product_details()"
   ]
  },
  {
   "attachments": {},
   "cell_type": "markdown",
   "metadata": {},
   "source": [
    "# 2. Check Products Details"
   ]
  },
  {
   "cell_type": "code",
   "execution_count": 12,
   "metadata": {},
   "outputs": [
    {
     "name": "stdout",
     "output_type": "stream",
     "text": [
      "Product Details\n",
      "ID           : P101\n",
      "Name         : Pname101\n",
      "Price        : 80\n",
      "Desciption   : productDetails of P101\n",
      "Sold(S)      : 40\n",
      "Available(A) : 60\n",
      "Total(S+A)   : 100\n"
     ]
    }
   ],
   "source": [
    "def check_products_details():\n",
    "    pid = input(\"Enter the Product ID:\")\n",
    "    product_list = textdata_to_list2d(\"products.txt\")\n",
    "    for p in product_list:\n",
    "        if p[0]==pid:\n",
    "            print(\"Product Details\")\n",
    "            print(\"ID           :\",p[0])\n",
    "            print(\"Name         :\",p[1])\n",
    "            print(\"Price        :\",p[2])\n",
    "            print(\"Description  :\",p[3])\n",
    "            print(\"Sold(S)      :\",p[4])\n",
    "            print(\"Available(A) :\",p[5])\n",
    "            print(\"Total(S+A)   :\",p[6])\n",
    "            break\n",
    "    else:\n",
    "        print(\"Produnct(PID) Not Found !!\")\n",
    "check_products_details()"
   ]
  },
  {
   "attachments": {},
   "cell_type": "markdown",
   "metadata": {},
   "source": [
    "# 3. All Customers Details"
   ]
  },
  {
   "cell_type": "code",
   "execution_count": 16,
   "metadata": {},
   "outputs": [
    {
     "name": "stdout",
     "output_type": "stream",
     "text": [
      "C1001|Cname101|9898324501|p101@gmail.com|Details of C101 Customer\n",
      "C1002|Cname102|9898324502|p102@gmail.com|Details of C102 Customer\n",
      "C1003|Cname103|9898324503|p103@gmail.com|Details of C103 Customer\n",
      "C1004|Cname104|9898324504|p104@gmail.com|Details of C104 Customer\n",
      "C1005|Cname105|9898324505|p105@gmail.com|Details of C105 Customer\n",
      "C1006|Cname106|9898324506|p106@gmail.com|Details of C106 Customer\n",
      "C1007|Cname107|9898324507|p107@gmail.com|Details of C107 Customer\n",
      "C1008|Cname108|9898324508|p108@gmail.com|Details of C108 Customer\n",
      "C1009|Cname109|9898324509|p109@gmail.com|Details of C109 Customer\n",
      "C1010|Cname110|9898324510|p110@gmail.com|Details of C110 Customer\n"
     ]
    }
   ],
   "source": [
    "def all_customers_details():\n",
    "    f = open(\"customers.txt\",\"r\")\n",
    "    print(f.read())\n",
    "    f.close()\n",
    "all_customers_details()"
   ]
  },
  {
   "attachments": {},
   "cell_type": "markdown",
   "metadata": {},
   "source": [
    "# 4. Check Customers Details"
   ]
  },
  {
   "cell_type": "code",
   "execution_count": 18,
   "metadata": {},
   "outputs": [
    {
     "name": "stdout",
     "output_type": "stream",
     "text": [
      "Customer(CID) Not Found !!\n"
     ]
    }
   ],
   "source": [
    "def check_customers_details():\n",
    "    cid = input(\"Enter the Customer ID:\")\n",
    "    customer_list = textdata_to_list2d(\"customers.txt\")\n",
    "    for c in customer_list:\n",
    "        if c[0]== cid:\n",
    "            print(\"Customer Details\")\n",
    "            print(\"ID           :\",c[0])\n",
    "            print(\"Name         :\",c[1])\n",
    "            print(\"Phone No.    :\",c[2])\n",
    "            print(\"E-mail       :\",c[3])\n",
    "            print(\"Description  :\",c[4])\n",
    "            break\n",
    "    else:\n",
    "        print(\"Customer(CID) Not Found !!\")\n",
    "check_customers_details()"
   ]
  },
  {
   "attachments": {},
   "cell_type": "markdown",
   "metadata": {},
   "source": [
    "# 5. Add Customer"
   ]
  },
  {
   "cell_type": "code",
   "execution_count": 24,
   "metadata": {},
   "outputs": [
    {
     "name": "stdout",
     "output_type": "stream",
     "text": [
      "Customer Already Exist with this ID. !!\n"
     ]
    }
   ],
   "source": [
    "def add_new_customer():\n",
    "    c_id = input(\"Enter Customer ID :\")\n",
    "    c_name = input(\"Enter Customer Name :\")\n",
    "    c_phone_no = input(\"Enter Customer Phone No. :\")\n",
    "    c_email = input(\"Enter Customer E-mail :\")\n",
    "    c_details = input(\"Enter Customer Details :\")\n",
    "\n",
    "    # Check Customer is already Exist or Not \n",
    "    customer_list = textdata_to_list2d(\"customers.txt\")\n",
    "    for c in customer_list:\n",
    "        if(c[0]==c_id):\n",
    "            print(\"Customer Already Exist with this ID. !!\") \n",
    "            break\n",
    "    else:\n",
    "        customer = f\"{c_id}|{c_name}|{c_phone_no}|{c_email}|{c_details}\"+\"\\n\"\n",
    "        f = open(\"customers.txt\",\"a\")\n",
    "        f.write(customer)\n",
    "        f.close()\n",
    "\n",
    "add_new_customer()"
   ]
  },
  {
   "attachments": {},
   "cell_type": "markdown",
   "metadata": {},
   "source": [
    "# 6. Add new product"
   ]
  },
  {
   "cell_type": "code",
   "execution_count": 28,
   "metadata": {},
   "outputs": [],
   "source": [
    "# P110|Pname110|80|productDetails of P110|40|60|100\n",
    "def add_new_product():\n",
    "    p_id = input(\"Enter Product ID :\")\n",
    "    p_name = input(\"Enter Product Name :\")\n",
    "    p_price = input(\"Enter Product Price :\")\n",
    "    p_quantity = input(\"Enter Product Quantity :\")\n",
    "    p_details = input(\"Enter Product Details :\")\n",
    "\n",
    "    p_sold = 0\n",
    "    p_available = p_quantity\n",
    "    \n",
    "    # Check Product is already Exist or Not \n",
    "    product_list = textdata_to_list2d(\"products.txt\")\n",
    "    for p in product_list:\n",
    "        if(p[0]==p_id):\n",
    "            print(\"Product Already Exist with this ID. !!\") \n",
    "            break\n",
    "    else:\n",
    "        product = f\"{p_id}|{p_name}|{p_price}|{p_details}|{p_sold}|{p_available}|{p_quantity}\"+\"\\n\"\n",
    "        f = open(\"products.txt\",\"a\")\n",
    "        f.write(product)\n",
    "        f.close()\n",
    "\n",
    "add_new_product()"
   ]
  },
  {
   "attachments": {},
   "cell_type": "markdown",
   "metadata": {},
   "source": [
    "# 7. Add Product stock"
   ]
  },
  {
   "cell_type": "code",
   "execution_count": null,
   "metadata": {},
   "outputs": [],
   "source": [
    "def add_product_stock():\n",
    "    flag=0\n",
    "    pid = input(\"Enter Product ID :\")\n",
    "    add_quantity = int(input(\"Enter Quantity :\"))\n",
    "    product_list = textdata_to_list2d(\"products.txt\")\n",
    "    for p in product_list:\n",
    "        if p[0]==pid:\n",
    "            p[-1] = str(int(p[-1]) + add_quantity)\n",
    "            p[-2] = str(int(p[-2]) + add_quantity)\n",
    "            break\n",
    "    else:\n",
    "        print(\"Product ID Not found. !!\")\n",
    "        flag = 1\n",
    "    if(flag!=1):\n",
    "        f = open(\"products.txt\",\"w\")\n",
    "        f.write(list2d_to_textdata(product_list).strip())\n",
    "        f.close()\n",
    "\n",
    "add_product_stock()"
   ]
  },
  {
   "attachments": {},
   "cell_type": "markdown",
   "metadata": {},
   "source": [
    "# 8. Product sell"
   ]
  },
  {
   "cell_type": "code",
   "execution_count": 7,
   "metadata": {},
   "outputs": [
    {
     "name": "stdout",
     "output_type": "stream",
     "text": [
      "Product ID Not found. !!\n"
     ]
    }
   ],
   "source": [
    "def product_sold():\n",
    "    flag=0\n",
    "    pid = input(\"Enter Product ID :\")\n",
    "    sold_quantity = int(input(\"Enter Sold Quantity:\"))\n",
    "    product_list = textdata_to_list2d(\"products.txt\")\n",
    "    for p in product_list:\n",
    "        if p[0]==pid:\n",
    "            p[-2] = str(int(p[-2]) - sold_quantity)\n",
    "            p[-3] = str(int(p[-3]) + sold_quantity)\n",
    "            break\n",
    "    else:\n",
    "        print(\"Product ID Not found. !!\")\n",
    "        flag = 1\n",
    "    if(flag!=1):\n",
    "        f = open(\"products.txt\",\"w\")\n",
    "        f.write(list2d_to_textdata(product_list).strip())\n",
    "        f.close()\n",
    "        \n",
    "product_sold()"
   ]
  },
  {
   "attachments": {},
   "cell_type": "markdown",
   "metadata": {},
   "source": [
    "# 9. Product Analysis"
   ]
  },
  {
   "cell_type": "code",
   "execution_count": 11,
   "metadata": {},
   "outputs": [
    {
     "data": {
      "image/png": "[encoded data removed]",
      "text/plain": [
       "<Figure size 2000x1000 with 1 Axes>"
      ]
     },
     "metadata": {},
     "output_type": "display_data"
    },
    {
     "data": {
      "image/png": "[encoded data removed]",
      "text/plain": [
       "<Figure size 640x480 with 1 Axes>"
      ]
     },
     "metadata": {},
     "output_type": "display_data"
    }
   ],
   "source": [
    "import matplotlib.pyplot as plt\n",
    "def product_data_chart():\n",
    "    plt.figure(figsize=(20,10))\n",
    "    product_list = textdata_to_list2d(\"products.txt\")\n",
    "\n",
    "    p_names = [i[1] for i in product_list]\n",
    "    p_sold = [int(i[-3]) for i in product_list]\n",
    "    p_avilabel = [int(i[-2]) for i in product_list]\n",
    "\n",
    "    plt.bar(p_names,p_sold,width=0.5,)\n",
    "    plt.show()\n",
    "\n",
    "    plt.pie(p_sold,labels=p_names,autopct=\"%1.1f%%\")\n",
    "    plt.title(\"Product Sell\")\n",
    "    plt.show()\n",
    "\n",
    "product_data_chart()\n"
   ]
  },
  {
   "cell_type": "code",
   "execution_count": 10,
   "metadata": {},
   "outputs": [
    {
     "name": "stdout",
     "output_type": "stream",
     "text": [
      "==============================================\n",
      "           DEV SHAH GENERAL STORE             \n",
      "==============================================\n",
      "P.ID\tP.NAME\t\tPRICE\tQNTY\tTOTAL\n",
      "----------------------------------------------\n",
      "P101\tPname101\t80\t2\t160\n",
      "P1111\tis NOT Available\n",
      "P104\tPname104\t80\t5\t400\n",
      "==============================================\n",
      "YOUR GRAND TOTAL:560\n",
      "==============================================\n",
      "         Thank You !! Visit Again !!          \n"
     ]
    }
   ],
   "source": [
    "def make_bill():\n",
    "    print(\"==============================================\")\n",
    "    print(\"           DEV SHAH GENERAL STORE             \")\n",
    "    print(\"==============================================\")\n",
    "    product_list = textdata_to_list2d(\"products.txt\")\n",
    "    \n",
    "    grand_total = 0\n",
    "    \n",
    "    print(f\"P.ID\\tP.NAME\\t\\tPRICE\\tQNTY\\tTOTAL\")\n",
    "    print(\"----------------------------------------------\")\n",
    "    while(True):\n",
    "        pid = input(\"Enter Product ID:\")\n",
    "        buy_quntity = int(input(\"How many quntity Buy? :\"))\n",
    "        for p in product_list:\n",
    "            if p[0] == pid:\n",
    "                grand_total += int(p[2])*buy_quntity\n",
    "                print(f\"{p[0]}\\t{p[1]}\\t{int(p[2])}\\t{buy_quntity}\\t{int(p[2])*buy_quntity}\")\n",
    "                \n",
    "                #Update file Data\n",
    "                p[-2] = str(int(p[-2]) - buy_quntity)\n",
    "                p[-3] = str(int(p[-3]) + buy_quntity)\n",
    "                break\n",
    "        else:\n",
    "            print(f\"{pid}\\tis not Available !!\")\n",
    "        want_to_add = input(\"Do you want to add Another item (y/n):\").lower()\n",
    "        if want_to_add==\"n\" or want_to_add==\"no\":\n",
    "            break\n",
    "    f = open(\"products.txt\",\"w\")\n",
    "    f.write(list2d_to_textdata(product_list).strip())\n",
    "    f.close()\n",
    "    print(\"----------------------------------------------\")\n",
    "    print(f\"YOUR GRAND TOTAL:{grand_total}\")\n",
    "    print(\"==============================================\")\n",
    "    print(\"         Thank You !! Visit Again !!          \")\n",
    "make_bill()"
   ]
  },
  {
   "cell_type": "code",
   "execution_count": null,
   "metadata": {},
   "outputs": [],
   "source": []
  }
 ],
 "metadata": {
  "kernelspec": {
   "display_name": "Python 3",
   "language": "python",
   "name": "python3"
  },
  "language_info": {
   "codemirror_mode": {
    "name": "ipython",
    "version": 3
   },
   "file_extension": ".py",
   "mimetype": "text/x-python",
   "name": "python",
   "nbconvert_exporter": "python",
   "pygments_lexer": "ipython3",
   "version": "3.11.2"
  },
  "orig_nbformat": 4
 },
 "nbformat": 4,
 "nbformat_minor": 2
}
